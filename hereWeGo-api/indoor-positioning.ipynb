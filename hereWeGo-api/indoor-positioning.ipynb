{
 "cells": [
  {
   "cell_type": "code",
   "execution_count": 33,
   "metadata": {},
   "outputs": [],
   "source": [
    "import requests"
   ]
  },
  {
   "cell_type": "code",
   "execution_count": 34,
   "metadata": {},
   "outputs": [],
   "source": [
    "url = \"https://pos.api.here.com/positioning/v1/locate?app_id=AjyfrrS732YgKwx94Jfy&app_code=MoJ2xRv28JeJLxVSHrNHTw\""
   ]
  },
  {
   "cell_type": "code",
   "execution_count": 35,
   "metadata": {},
   "outputs": [],
   "source": [
    "data = {\n",
    "  \"wlan\": [{\n",
    "  \"mac\": \"36:68:95:1A:36:93\",\n",
    "  \"powrx\": -74\n",
    "  }, {\n",
    "  \"mac\": \"18:64:72:B7:BC:B2\",\n",
    "  \"powrx\": -75\n",
    "  },{\n",
    "  \"mac\": \"18:64:72:B7:89:21\",\n",
    "  \"powrx\": -76\n",
    "  },{\n",
    "  \"mac\": \"18:64:72:B7:BC:B1\",\n",
    "  \"powrx\": -77\n",
    "  },{\n",
    "  \"mac\": \"18:64:72:B7:B1:63\",\n",
    "  \"powrx\": -79\n",
    "  }]\n",
    "}"
   ]
  },
  {
   "cell_type": "code",
   "execution_count": 36,
   "metadata": {},
   "outputs": [],
   "source": [
    "x = requests.post(url, json = data)"
   ]
  },
  {
   "cell_type": "code",
   "execution_count": 37,
   "metadata": {},
   "outputs": [
    {
     "data": {
      "text/plain": [
       "'{\"location\":{\"lat\":61.4966557,\"lng\":23.77693322,\"accuracy\":46}}'"
      ]
     },
     "execution_count": 37,
     "metadata": {},
     "output_type": "execute_result"
    }
   ],
   "source": [
    "x.text"
   ]
  },
  {
   "cell_type": "markdown",
   "metadata": {},
   "source": [
    "#### Wlan Positioning and Mobile (**not work**)"
   ]
  },
  {
   "cell_type": "code",
   "execution_count": 42,
   "metadata": {},
   "outputs": [],
   "source": [
    "url = \"https://pos.api.here.com/positioning/v1/locate?app_id=AjyfrrS732YgKwx94Jfy&app_code=MoJ2xRv28JeJLxVSHrNHTw\""
   ]
  },
  {
   "cell_type": "code",
   "execution_count": 46,
   "metadata": {},
   "outputs": [],
   "source": [
    "data = {\n",
    "  \"wlan\": [\n",
    "      {\"mac\": \"04:79:70:B5:BF:58\", \"powrx\": -74},\n",
    "      {\"mac\": \"30:A1:FA:6C:0B:98\", \"powrx\": -74}\n",
    "  ]\n",
    "}"
   ]
  },
  {
   "cell_type": "code",
   "execution_count": 47,
   "metadata": {},
   "outputs": [],
   "source": [
    "x = requests.post(url, json = data)"
   ]
  },
  {
   "cell_type": "code",
   "execution_count": 48,
   "metadata": {},
   "outputs": [
    {
     "data": {
      "text/plain": [
       "'{\"error\":{\"code\":404,\"message\":\"Not Found\",\"description\":\"Position not found\"}}'"
      ]
     },
     "execution_count": 48,
     "metadata": {},
     "output_type": "execute_result"
    }
   ],
   "source": [
    "x.text"
   ]
  },
  {
   "cell_type": "code",
   "execution_count": 27,
   "metadata": {},
   "outputs": [],
   "source": [
    "data = {\"lte\":[{\"mcc\":262,\"mnc\":2,\"cid\":2898945}],\"wlan\":[{\"mac\":\"F4-55-95-11-2C-C1\"}]}"
   ]
  },
  {
   "cell_type": "code",
   "execution_count": 28,
   "metadata": {},
   "outputs": [],
   "source": [
    "x = requests.post(url, json = data)"
   ]
  },
  {
   "cell_type": "code",
   "execution_count": 29,
   "metadata": {},
   "outputs": [
    {
     "data": {
      "text/plain": [
       "200"
      ]
     },
     "execution_count": 29,
     "metadata": {},
     "output_type": "execute_result"
    }
   ],
   "source": [
    "x.status_code"
   ]
  },
  {
   "cell_type": "code",
   "execution_count": 30,
   "metadata": {},
   "outputs": [],
   "source": [
    "data = {\n",
    "  \"lte\": [{\n",
    "  \"mcc\": '414',\n",
    "  \"mnc\": '06',\n",
    "  \"cid\": '10492'\n",
    "  }],\n",
    "  \"wlan\": [\n",
    "  {\"mac\": \"80:ad:16:4c:ae:1a\"}\n",
    "  ]\n",
    "}"
   ]
  },
  {
   "cell_type": "code",
   "execution_count": 31,
   "metadata": {},
   "outputs": [],
   "source": [
    "x = requests.post(url, json = data)"
   ]
  },
  {
   "cell_type": "code",
   "execution_count": 32,
   "metadata": {},
   "outputs": [
    {
     "data": {
      "text/plain": [
       "'{\"error\":{\"code\":404,\"message\":\"Not Found\",\"description\":\"Position not found\"}}'"
      ]
     },
     "execution_count": 32,
     "metadata": {},
     "output_type": "execute_result"
    }
   ],
   "source": [
    "x.text"
   ]
  },
  {
   "cell_type": "code",
   "execution_count": null,
   "metadata": {},
   "outputs": [],
   "source": []
  }
 ],
 "metadata": {
  "kernelspec": {
   "display_name": "Python 3",
   "language": "python",
   "name": "python3"
  },
  "language_info": {
   "codemirror_mode": {
    "name": "ipython",
    "version": 3
   },
   "file_extension": ".py",
   "mimetype": "text/x-python",
   "name": "python",
   "nbconvert_exporter": "python",
   "pygments_lexer": "ipython3",
   "version": "3.8.1"
  }
 },
 "nbformat": 4,
 "nbformat_minor": 4
}
