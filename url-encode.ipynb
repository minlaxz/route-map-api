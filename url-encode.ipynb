{
 "cells": [
  {
   "cell_type": "code",
   "execution_count": 24,
   "metadata": {},
   "outputs": [],
   "source": [
    "import urllib.parse as prase"
   ]
  },
  {
   "cell_type": "code",
   "execution_count": 13,
   "metadata": {},
   "outputs": [],
   "source": [
    "query = '{\"type\":\"features\",\"features\":  [{\"geometry\":{\"x\": -118.243529,\"y\": 34.053879,\"spatialReference\": { \"wkid\": \"4326\"}}, \"attributes\": {\"Name\": \"Los Angeles City Hall\"}},{\"geometry\":{\"x\": -118.273939,\"y\": 34.123480,\"spatialReference\": {\"wkid\": \"4326\"}},\"attributes\": {\"Name\": \"Griffith Park\"}}]}'"
   ]
  },
  {
   "cell_type": "code",
   "execution_count": 11,
   "metadata": {},
   "outputs": [],
   "source": [
    "query_2 = '  '"
   ]
  },
  {
   "cell_type": "code",
   "execution_count": 16,
   "metadata": {},
   "outputs": [],
   "source": [
    "my_query = prase.quote(query)"
   ]
  },
  {
   "cell_type": "code",
   "execution_count": 15,
   "metadata": {},
   "outputs": [],
   "source": [
    "query_from_app = '%7B%0A%20%20%22type%22%3A%22features%22%2C%0A%20%20%22features%22%3A%20%20%5B%0A%20%20%20%20%20%20%7B%0A%20%20%20%20%20%20%22geometry%22%3A%20%7B%0A%20%20%20%20%20%20%20%20%22x%22%3A%20-118.243529%2C%0A%20%20%20%20%20%20%20%20%22y%22%3A%2034.053879%2C%0A%20%20%20%20%20%20%20%20%22spatialReference%22%3A%20%7B%0A%20%20%20%20%20%20%20%20%20%20%22wkid%22%3A%20%224326%22%0A%20%20%20%20%20%20%20%20%7D%0A%20%20%20%20%20%20%7D%2C%0A%20%20%20%20%20%20%22attributes%22%3A%20%7B%0A%20%20%20%20%20%20%20%20%22Name%22%3A%20%22Los%20Angeles%20City%20Hall%22%0A%20%20%20%20%20%20%7D%0A%20%20%20%20%7D%2C%0A%20%20%20%20%7B%0A%20%20%20%20%20%20%22geometry%22%3A%20%7B%0A%20%20%20%20%20%20%20%20%22x%22%3A%20-118.273939%2C%0A%20%20%20%20%20%20%20%20%22y%22%3A%2034.123480%2C%0A%20%20%20%20%20%20%20%20%22spatialReference%22%3A%20%7B%0A%20%20%20%20%20%20%20%20%20%20%22wkid%22%3A%20%224326%22%0A%20%20%20%20%20%20%20%20%7D%0A%20%20%20%20%20%20%7D%2C%0A%20%20%20%20%20%20%22attributes%22%3A%20%7B%0A%20%20%20%20%20%20%20%20%22Name%22%3A%20%22Griffith%20Park%22%0A%20%20%20%20%20%20%7D%0A%20%20%20%20%7D%0A%20%20%5D%0A%7D'"
   ]
  },
  {
   "cell_type": "code",
   "execution_count": 17,
   "metadata": {},
   "outputs": [
    {
     "data": {
      "text/plain": [
       "False"
      ]
     },
     "execution_count": 17,
     "metadata": {},
     "output_type": "execute_result"
    }
   ],
   "source": [
    "my_query == query_from_app"
   ]
  },
  {
   "cell_type": "code",
   "execution_count": 18,
   "metadata": {},
   "outputs": [
    {
     "data": {
      "text/plain": [
       "'%7B%22type%22%3A%22features%22%2C%22features%22%3A%20%20%5B%7B%22geometry%22%3A%7B%22x%22%3A%20-118.243529%2C%22y%22%3A%2034.053879%2C%22spatialReference%22%3A%20%7B%20%22wkid%22%3A%20%224326%22%7D%7D%2C%20%22attributes%22%3A%20%7B%22Name%22%3A%20%22Los%20Angeles%20City%20Hall%22%7D%7D%2C%7B%22geometry%22%3A%7B%22x%22%3A%20-118.273939%2C%22y%22%3A%2034.123480%2C%22spatialReference%22%3A%20%7B%22wkid%22%3A%20%224326%22%7D%7D%2C%22attributes%22%3A%20%7B%22Name%22%3A%20%22Griffith%20Park%22%7D%7D%5D%7D'"
      ]
     },
     "execution_count": 18,
     "metadata": {},
     "output_type": "execute_result"
    }
   ],
   "source": [
    "my_query"
   ]
  },
  {
   "cell_type": "code",
   "execution_count": 19,
   "metadata": {},
   "outputs": [
    {
     "data": {
      "text/plain": [
       "'%7B%0A%20%20%22type%22%3A%22features%22%2C%0A%20%20%22features%22%3A%20%20%5B%0A%20%20%20%20%20%20%7B%0A%20%20%20%20%20%20%22geometry%22%3A%20%7B%0A%20%20%20%20%20%20%20%20%22x%22%3A%20-118.243529%2C%0A%20%20%20%20%20%20%20%20%22y%22%3A%2034.053879%2C%0A%20%20%20%20%20%20%20%20%22spatialReference%22%3A%20%7B%0A%20%20%20%20%20%20%20%20%20%20%22wkid%22%3A%20%224326%22%0A%20%20%20%20%20%20%20%20%7D%0A%20%20%20%20%20%20%7D%2C%0A%20%20%20%20%20%20%22attributes%22%3A%20%7B%0A%20%20%20%20%20%20%20%20%22Name%22%3A%20%22Los%20Angeles%20City%20Hall%22%0A%20%20%20%20%20%20%7D%0A%20%20%20%20%7D%2C%0A%20%20%20%20%7B%0A%20%20%20%20%20%20%22geometry%22%3A%20%7B%0A%20%20%20%20%20%20%20%20%22x%22%3A%20-118.273939%2C%0A%20%20%20%20%20%20%20%20%22y%22%3A%2034.123480%2C%0A%20%20%20%20%20%20%20%20%22spatialReference%22%3A%20%7B%0A%20%20%20%20%20%20%20%20%20%20%22wkid%22%3A%20%224326%22%0A%20%20%20%20%20%20%20%20%7D%0A%20%20%20%20%20%20%7D%2C%0A%20%20%20%20%20%20%22attributes%22%3A%20%7B%0A%20%20%20%20%20%20%20%20%22Name%22%3A%20%22Griffith%20Park%22%0A%20%20%20%20%20%20%7D%0A%20%20%20%20%7D%0A%20%20%5D%0A%7D'"
      ]
     },
     "execution_count": 19,
     "metadata": {},
     "output_type": "execute_result"
    }
   ],
   "source": [
    "query_from_app"
   ]
  },
  {
   "cell_type": "code",
   "execution_count": 20,
   "metadata": {},
   "outputs": [],
   "source": [
    "query_list = [{\n",
    "  \"type\":\"features\",\n",
    "  \"features\":  [\n",
    "      {\n",
    "      \"geometry\": {\n",
    "        \"x\": -118.243529,\n",
    "        \"y\": 34.053879,\n",
    "        \"spatialReference\": {\n",
    "          \"wkid\": \"4326\"\n",
    "        }\n",
    "      },\n",
    "      \"attributes\": {\n",
    "        \"Name\": \"Los Angeles City Hall\"\n",
    "      }\n",
    "    },\n",
    "    {\n",
    "      \"geometry\": {\n",
    "        \"x\": -118.273939,\n",
    "        \"y\": 34.123480,\n",
    "        \"spatialReference\": {\n",
    "          \"wkid\": \"4326\"\n",
    "        }\n",
    "      },\n",
    "      \"attributes\": {\n",
    "        \"Name\": \"Griffith Park\"\n",
    "      }\n",
    "    }\n",
    "  ]\n",
    "}]"
   ]
  },
  {
   "cell_type": "code",
   "execution_count": 21,
   "metadata": {},
   "outputs": [],
   "source": [
    "query_update = str(query_list[0])"
   ]
  },
  {
   "cell_type": "code",
   "execution_count": 26,
   "metadata": {},
   "outputs": [],
   "source": [
    "my_quote = prase.quote(query_update)"
   ]
  },
  {
   "cell_type": "code",
   "execution_count": 30,
   "metadata": {},
   "outputs": [
    {
     "data": {
      "text/plain": [
       "False"
      ]
     },
     "execution_count": 30,
     "metadata": {},
     "output_type": "execute_result"
    }
   ],
   "source": [
    "query_from_app == my_quote"
   ]
  },
  {
   "cell_type": "code",
   "execution_count": 28,
   "metadata": {},
   "outputs": [
    {
     "data": {
      "text/plain": [
       "'%7B%0A%20%20%22type%22%3A%22features%22%2C%0A%20%20%22features%22%3A%20%20%5B%0A%20%20%20%20%20%20%7B%0A%20%20%20%20%20%20%22geometry%22%3A%20%7B%0A%20%20%20%20%20%20%20%20%22x%22%3A%20-118.243529%2C%0A%20%20%20%20%20%20%20%20%22y%22%3A%2034.053879%2C%0A%20%20%20%20%20%20%20%20%22spatialReference%22%3A%20%7B%0A%20%20%20%20%20%20%20%20%20%20%22wkid%22%3A%20%224326%22%0A%20%20%20%20%20%20%20%20%7D%0A%20%20%20%20%20%20%7D%2C%0A%20%20%20%20%20%20%22attributes%22%3A%20%7B%0A%20%20%20%20%20%20%20%20%22Name%22%3A%20%22Los%20Angeles%20City%20Hall%22%0A%20%20%20%20%20%20%7D%0A%20%20%20%20%7D%2C%0A%20%20%20%20%7B%0A%20%20%20%20%20%20%22geometry%22%3A%20%7B%0A%20%20%20%20%20%20%20%20%22x%22%3A%20-118.273939%2C%0A%20%20%20%20%20%20%20%20%22y%22%3A%2034.123480%2C%0A%20%20%20%20%20%20%20%20%22spatialReference%22%3A%20%7B%0A%20%20%20%20%20%20%20%20%20%20%22wkid%22%3A%20%224326%22%0A%20%20%20%20%20%20%20%20%7D%0A%20%20%20%20%20%20%7D%2C%0A%20%20%20%20%20%20%22attributes%22%3A%20%7B%0A%20%20%20%20%20%20%20%20%22Name%22%3A%20%22Griffith%20Park%22%0A%20%20%20%20%20%20%7D%0A%20%20%20%20%7D%0A%20%20%5D%0A%7D'"
      ]
     },
     "execution_count": 28,
     "metadata": {},
     "output_type": "execute_result"
    }
   ],
   "source": [
    "query_from_app"
   ]
  },
  {
   "cell_type": "code",
   "execution_count": 31,
   "metadata": {},
   "outputs": [
    {
     "data": {
      "text/plain": [
       "'%7B%27type%27%3A%20%27features%27%2C%20%27features%27%3A%20%5B%7B%27geometry%27%3A%20%7B%27x%27%3A%20-118.243529%2C%20%27y%27%3A%2034.053879%2C%20%27spatialReference%27%3A%20%7B%27wkid%27%3A%20%274326%27%7D%7D%2C%20%27attributes%27%3A%20%7B%27Name%27%3A%20%27Los%20Angeles%20City%20Hall%27%7D%7D%2C%20%7B%27geometry%27%3A%20%7B%27x%27%3A%20-118.273939%2C%20%27y%27%3A%2034.12348%2C%20%27spatialReference%27%3A%20%7B%27wkid%27%3A%20%274326%27%7D%7D%2C%20%27attributes%27%3A%20%7B%27Name%27%3A%20%27Griffith%20Park%27%7D%7D%5D%7D'"
      ]
     },
     "execution_count": 31,
     "metadata": {},
     "output_type": "execute_result"
    }
   ],
   "source": [
    "my_quote"
   ]
  },
  {
   "cell_type": "code",
   "execution_count": null,
   "metadata": {},
   "outputs": [],
   "source": []
  }
 ],
 "metadata": {
  "kernelspec": {
   "display_name": "Python 3",
   "language": "python",
   "name": "python3"
  },
  "language_info": {
   "codemirror_mode": {
    "name": "ipython",
    "version": 3
   },
   "file_extension": ".py",
   "mimetype": "text/x-python",
   "name": "python",
   "nbconvert_exporter": "python",
   "pygments_lexer": "ipython3",
   "version": "3.8.1"
  }
 },
 "nbformat": 4,
 "nbformat_minor": 4
}
