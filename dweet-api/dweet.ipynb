{
 "cells": [
  {
   "cell_type": "code",
   "execution_count": 1,
   "metadata": {},
   "outputs": [],
   "source": [
    "import requests"
   ]
  },
  {
   "cell_type": "code",
   "execution_count": 2,
   "metadata": {},
   "outputs": [],
   "source": [
    "url = 'https://dweet.io/dweet/for/laxz-path-culler'\n",
    "\n",
    "data = {\n",
    "    'hello' : 'world',\n",
    "    'foo' : 'bar'\n",
    "}\n",
    "\n",
    "r = requests.post(url,json=data)"
   ]
  },
  {
   "cell_type": "code",
   "execution_count": 3,
   "metadata": {},
   "outputs": [
    {
     "data": {
      "text/plain": [
       "200"
      ]
     },
     "execution_count": 3,
     "metadata": {},
     "output_type": "execute_result"
    }
   ],
   "source": [
    "r.status_code"
   ]
  },
  {
   "cell_type": "code",
   "execution_count": 4,
   "metadata": {},
   "outputs": [
    {
     "data": {
      "text/plain": [
       "'{\"this\":\"succeeded\",\"by\":\"dweeting\",\"the\":\"dweet\",\"with\":{\"thing\":\"laxz-path-culler\",\"created\":\"2019-10-26T10:53:11.848Z\",\"content\":{\"hello\":\"world\",\"foo\":\"bar\"},\"transaction\":\"8a603c22-6385-4856-9b00-c1ab8118dca4\"}}'"
      ]
     },
     "execution_count": 4,
     "metadata": {},
     "output_type": "execute_result"
    }
   ],
   "source": [
    "r.text"
   ]
  },
  {
   "cell_type": "code",
   "execution_count": 5,
   "metadata": {},
   "outputs": [],
   "source": [
    "get_url = 'https://dweet.io/get/latest/dweet/for/laxz-path-culler'"
   ]
  },
  {
   "cell_type": "code",
   "execution_count": 10,
   "metadata": {},
   "outputs": [],
   "source": [
    "r = requests.get(get_url).json()"
   ]
  },
  {
   "cell_type": "code",
   "execution_count": 11,
   "metadata": {},
   "outputs": [
    {
     "data": {
      "text/plain": [
       "{'this': 'succeeded',\n",
       " 'by': 'getting',\n",
       " 'the': 'dweets',\n",
       " 'with': [{'thing': 'laxz-path-culler',\n",
       "   'created': '2019-10-26T10:53:11.848Z',\n",
       "   'content': {'hello': 'world', 'foo': 'bar'}}]}"
      ]
     },
     "execution_count": 11,
     "metadata": {},
     "output_type": "execute_result"
    }
   ],
   "source": [
    "r"
   ]
  },
  {
   "cell_type": "code",
   "execution_count": 13,
   "metadata": {},
   "outputs": [],
   "source": [
    "r = requests.get('https://dweet.io/get/dweets/for/laxz-path-culler').json()"
   ]
  },
  {
   "cell_type": "code",
   "execution_count": 14,
   "metadata": {},
   "outputs": [
    {
     "data": {
      "text/plain": [
       "{'this': 'succeeded',\n",
       " 'by': 'getting',\n",
       " 'the': 'dweets',\n",
       " 'with': [{'thing': 'laxz-path-culler',\n",
       "   'created': '2019-10-26T10:53:11.848Z',\n",
       "   'content': {'hello': 'world', 'foo': 'bar'}}]}"
      ]
     },
     "execution_count": 14,
     "metadata": {},
     "output_type": "execute_result"
    }
   ],
   "source": [
    "r"
   ]
  },
  {
   "cell_type": "code",
   "execution_count": 18,
   "metadata": {},
   "outputs": [],
   "source": [
    "url = 'https://dweet.io/dweet/for/laxz-path-culler'\n",
    "data = {\"lat\":16.875524717,\"lon\":96.266761267,\"speed\":10,\"head\":75,\"alt\":330.7,\"temp\":21.2,\"batt\":3630}\n",
    "r = requests.post(url,json=data)"
   ]
  },
  {
   "cell_type": "code",
   "execution_count": null,
   "metadata": {},
   "outputs": [],
   "source": []
  }
 ],
 "metadata": {
  "kernelspec": {
   "display_name": "Python 3",
   "language": "python",
   "name": "python3"
  },
  "language_info": {
   "codemirror_mode": {
    "name": "ipython",
    "version": 3
   },
   "file_extension": ".py",
   "mimetype": "text/x-python",
   "name": "python",
   "nbconvert_exporter": "python",
   "pygments_lexer": "ipython3",
   "version": "3.8.1"
  }
 },
 "nbformat": 4,
 "nbformat_minor": 4
}
