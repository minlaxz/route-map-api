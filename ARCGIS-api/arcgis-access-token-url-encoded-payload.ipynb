{
 "cells": [
  {
   "cell_type": "code",
   "execution_count": null,
   "metadata": {},
   "outputs": [],
   "source": [
    "import requests\n",
    "\n",
    "url = \"https://www.arcgis.com/sharing/rest/oauth2/token\"\n",
    "\n",
    "payload = \"client_id=*************&client_secret=*****************&grant_type=client_credentials\"\n",
    "headers = {\n",
    "    'Content-Type': \"application/x-www-form-urlencoded\"\n",
    "    }\n",
    "\n",
    "response = requests.request(\"POST\", url, data=payload, headers=headers)\n",
    "\n",
    "print(response.text)"
   ]
  },
  {
   "cell_type": "code",
   "execution_count": null,
   "metadata": {},
   "outputs": [],
   "source": [
    "import requests\n",
    "\n",
    "url = \"https://route.arcgis.com/arcgis/rest/services/World/Route/NAServer/Route_World/solve\"\n",
    "\n",
    "payload = \"f=json&token=********************************************&stops=%7B%0A%20%20%22type%22%3A%22features%22%2C%0A%20%20%22features%22%3A%20%20%5B%0A%20%20%20%20%20%20%7B%0A%20%20%20%20%20%20%22geometry%22%3A%20%7B%0A%20%20%20%20%20%20%20%20%22x%22%3A%20-118.243529%2C%0A%20%20%20%20%20%20%20%20%22y%22%3A%2034.053879%2C%0A%20%20%20%20%20%20%20%20%22spatialReference%22%3A%20%7B%0A%20%20%20%20%20%20%20%20%20%20%22wkid%22%3A%20%224326%22%0A%20%20%20%20%20%20%20%20%7D%0A%20%20%20%20%20%20%7D%2C%0A%20%20%20%20%20%20%22attributes%22%3A%20%7B%0A%20%20%20%20%20%20%20%20%22Name%22%3A%20%22Los%20Angeles%20City%20Hall%22%0A%20%20%20%20%20%20%7D%0A%20%20%20%20%7D%2C%0A%20%20%20%20%7B%0A%20%20%20%20%20%20%22geometry%22%3A%20%7B%0A%20%20%20%20%20%20%20%20%22x%22%3A%20-118.273939%2C%0A%20%20%20%20%20%20%20%20%22y%22%3A%2034.123480%2C%0A%20%20%20%20%20%20%20%20%22spatialReference%22%3A%20%7B%0A%20%20%20%20%20%20%20%20%20%20%22wkid%22%3A%20%224326%22%0A%20%20%20%20%20%20%20%20%7D%0A%20%20%20%20%20%20%7D%2C%0A%20%20%20%20%20%20%22attributes%22%3A%20%7B%0A%20%20%20%20%20%20%20%20%22Name%22%3A%20%22Griffith%20Park%22%0A%20%20%20%20%20%20%7D%0A%20%20%20%20%7D%0A%20%20%5D%0A%7D\"\n",
    "headers = {\n",
    "    'Content-Type': \"application/x-www-form-urlencoded\"\n",
    "    }\n",
    "\n",
    "response = requests.request(\"POST\", url, data=payload, headers=headers)\n",
    "\n",
    "print(response.text)"
   ]
  },
  {
   "cell_type": "code",
   "execution_count": null,
   "metadata": {},
   "outputs": [],
   "source": [
    "query_list = [{\n",
    "  \"type\":\"features\",\n",
    "  \"features\":  [\n",
    "      {\n",
    "      \"geometry\": {\n",
    "        \"x\": -118.243529,\n",
    "        \"y\": 34.053879,\n",
    "        \"spatialReference\": {\n",
    "          \"wkid\": \"4326\"\n",
    "        }\n",
    "      },\n",
    "      \"attributes\": {\n",
    "        \"Name\": \"Los Angeles City Hall\"\n",
    "      }\n",
    "    },\n",
    "    {\n",
    "      \"geometry\": {\n",
    "        \"x\": -118.273939,\n",
    "        \"y\": 34.123480,\n",
    "        \"spatialReference\": {\n",
    "          \"wkid\": \"4326\"\n",
    "        }\n",
    "      },\n",
    "      \"attributes\": {\n",
    "        \"Name\": \"Griffith Park\"\n",
    "      }\n",
    "    }\n",
    "  ]\n",
    "}]"
   ]
  },
  {
   "cell_type": "code",
   "execution_count": null,
   "metadata": {},
   "outputs": [],
   "source": [
    "my_query = '%7B%27type%27%3A%20%27features%27%2C%20%27features%27%3A%20%5B%7B%27geometry%27%3A%20%7B%27x%27%3A%20-118.243529%2C%20%27y%27%3A%2034.053879%2C%20%27spatialReference%27%3A%20%7B%27wkid%27%3A%20%274326%27%7D%7D%2C%20%27attributes%27%3A%20%7B%27Name%27%3A%20%27Los%20Angeles%20City%20Hall%27%7D%7D%2C%20%7B%27geometry%27%3A%20%7B%27x%27%3A%20-118.273939%2C%20%27y%27%3A%2034.12348%2C%20%27spatialReference%27%3A%20%7B%27wkid%27%3A%20%274326%27%7D%7D%2C%20%27attributes%27%3A%20%7B%27Name%27%3A%20%27Griffith%20Park%27%7D%7D%5D%7D'"
   ]
  },
  {
   "cell_type": "code",
   "execution_count": null,
   "metadata": {},
   "outputs": [],
   "source": [
    "import requests\n",
    "\n",
    "url = \"https://route.arcgis.com/arcgis/rest/services/World/Route/NAServer/Route_World/solve\"\n",
    "\n",
    "payload = \"f=json&token=*****************************************8&stops=\"+my_query\n",
    "headers = {\n",
    "    'Content-Type': \"application/x-www-form-urlencoded\"\n",
    "    }\n",
    "\n",
    "response = requests.request(\"POST\", url, data=payload, headers=headers)\n",
    "\n",
    "print(response.text)"
   ]
  },
  {
   "cell_type": "code",
   "execution_count": null,
   "metadata": {},
   "outputs": [],
   "source": [
    "response.ok"
   ]
  },
  {
   "cell_type": "code",
   "execution_count": null,
   "metadata": {},
   "outputs": [],
   "source": [
    "text = response.text"
   ]
  },
  {
   "cell_type": "code",
   "execution_count": null,
   "metadata": {},
   "outputs": [],
   "source": [
    "import json"
   ]
  },
  {
   "cell_type": "code",
   "execution_count": null,
   "metadata": {},
   "outputs": [],
   "source": [
    "prase = json.loads(text)"
   ]
  },
  {
   "cell_type": "code",
   "execution_count": null,
   "metadata": {},
   "outputs": [],
   "source": [
    "prase"
   ]
  },
  {
   "cell_type": "code",
   "execution_count": null,
   "metadata": {},
   "outputs": [],
   "source": [
    "print('16.875364, 96.266616')"
   ]
  },
  {
   "cell_type": "code",
   "execution_count": null,
   "metadata": {},
   "outputs": [],
   "source": [
    "print(json.dumps(prase, indent=4, sort_keys=True))"
   ]
  },
  {
   "cell_type": "code",
   "execution_count": null,
   "metadata": {},
   "outputs": [],
   "source": [
    "query_list.append('-117.1957,34.0564; -117.184,34.0546')"
   ]
  },
  {
   "cell_type": "code",
   "execution_count": null,
   "metadata": {},
   "outputs": [],
   "source": [
    "query_list[1]"
   ]
  },
  {
   "cell_type": "code",
   "execution_count": null,
   "metadata": {},
   "outputs": [],
   "source": [
    "import urllib.parse as prase"
   ]
  },
  {
   "cell_type": "code",
   "execution_count": null,
   "metadata": {},
   "outputs": [],
   "source": [
    "query = prase.quote(query_list[1])"
   ]
  },
  {
   "cell_type": "code",
   "execution_count": null,
   "metadata": {},
   "outputs": [],
   "source": [
    "query"
   ]
  },
  {
   "cell_type": "code",
   "execution_count": null,
   "metadata": {},
   "outputs": [],
   "source": [
    "import requests\n",
    "\n",
    "url = \"https://route.arcgis.com/arcgis/rest/services/World/Route/NAServer/Route_World/solve\"\n",
    "\n",
    "payload = \"f=json&token=********************************************88&stops=\"+query\n",
    "headers = {\n",
    "    'Content-Type': \"application/x-www-form-urlencoded\"\n",
    "    }\n",
    "\n",
    "response = requests.request(\"POST\", url, data=payload, headers=headers)\n",
    "\n",
    "print(response.text)"
   ]
  },
  {
   "cell_type": "code",
   "execution_count": null,
   "metadata": {},
   "outputs": [],
   "source": [
    "query_list.append('37.487063, -122.218561; 37.481713, -122.198765')"
   ]
  },
  {
   "cell_type": "code",
   "execution_count": null,
   "metadata": {},
   "outputs": [],
   "source": [
    "my_real_query = query = prase.quote(query_list[4])"
   ]
  },
  {
   "cell_type": "code",
   "execution_count": null,
   "metadata": {},
   "outputs": [],
   "source": [
    "my_real_query"
   ]
  },
  {
   "cell_type": "code",
   "execution_count": null,
   "metadata": {},
   "outputs": [],
   "source": [
    "import requests\n",
    "\n",
    "url = \"https://route.arcgis.com/arcgis/rest/services/World/Route/NAServer/Route_World/solve\"\n",
    "\n",
    "payload = \"f=json&token=********************************************&stops=\"+my_real_query\n",
    "headers = {\n",
    "    'Content-Type': \"application/x-www-form-urlencoded\"\n",
    "    }\n",
    "\n",
    "response = requests.request(\"POST\", url, data=payload, headers=headers)\n",
    "\n",
    "print(response.text)"
   ]
  },
  {
   "cell_type": "code",
   "execution_count": null,
   "metadata": {},
   "outputs": [],
   "source": [
    "query_list[2] = '96.2666233,16.8751935; 96.2130303,16.8162409'"
   ]
  },
  {
   "cell_type": "code",
   "execution_count": null,
   "metadata": {},
   "outputs": [],
   "source": [
    "query_list[2]"
   ]
  },
  {
   "cell_type": "code",
   "execution_count": null,
   "metadata": {},
   "outputs": [],
   "source": [
    "my_real_query = query = prase.quote(query_list[2])"
   ]
  },
  {
   "cell_type": "code",
   "execution_count": null,
   "metadata": {},
   "outputs": [],
   "source": [
    "my_real_query"
   ]
  },
  {
   "cell_type": "code",
   "execution_count": null,
   "metadata": {},
   "outputs": [],
   "source": [
    "query_list[2] = '96.217989,16.807021; 96.2062176,16.8255539'"
   ]
  },
  {
   "cell_type": "code",
   "execution_count": null,
   "metadata": {},
   "outputs": [],
   "source": [
    "my_real_query = query = prase.quote(query_list[2])"
   ]
  },
  {
   "cell_type": "code",
   "execution_count": null,
   "metadata": {},
   "outputs": [],
   "source": [
    "my_real_query"
   ]
  },
  {
   "cell_type": "code",
   "execution_count": null,
   "metadata": {},
   "outputs": [],
   "source": [
    "prase = json.loads(response.text)\n",
    "data_response = (json.dumps(prase, indent=4, sort_keys=True))"
   ]
  },
  {
   "cell_type": "code",
   "execution_count": null,
   "metadata": {},
   "outputs": [],
   "source": [
    "print(data_response)"
   ]
  },
  {
   "cell_type": "code",
   "execution_count": null,
   "metadata": {},
   "outputs": [],
   "source": [
    "type(data_response)"
   ]
  },
  {
   "cell_type": "code",
   "execution_count": null,
   "metadata": {},
   "outputs": [],
   "source": [
    "type(prase)"
   ]
  },
  {
   "cell_type": "code",
   "execution_count": null,
   "metadata": {},
   "outputs": [],
   "source": [
    "prase"
   ]
  },
  {
   "cell_type": "code",
   "execution_count": null,
   "metadata": {},
   "outputs": [],
   "source": [
    "start = '96.217989,16.807021'\n",
    "end = '96.207368,16.8128586'\n",
    "route = start+';'+end"
   ]
  },
  {
   "cell_type": "code",
   "execution_count": null,
   "metadata": {},
   "outputs": [],
   "source": [
    "import urllib.parse as encode\n",
    "import requests\n",
    "import json"
   ]
  },
  {
   "cell_type": "code",
   "execution_count": null,
   "metadata": {},
   "outputs": [],
   "source": [
    "encoded = encode.quote(route)"
   ]
  },
  {
   "cell_type": "code",
   "execution_count": null,
   "metadata": {},
   "outputs": [],
   "source": [
    "encoded"
   ]
  },
  {
   "cell_type": "code",
   "execution_count": null,
   "metadata": {},
   "outputs": [],
   "source": [
    "def get_route(encoded_route):\n",
    "    \n",
    "    url = \"https://route.arcgis.com/arcgis/rest/services/World/Route/NAServer/Route_World/solve\"\n",
    "\n",
    "    payload = \"f=json&token=***********************************&stops=\"+encoded_route\n",
    "    headers = {\n",
    "    'Content-Type': \"application/x-www-form-urlencoded\",\n",
    "    'cache-control': \"no-cache\",\n",
    "    'Postman-Token': \"b20f0218-bf9a-4e6b-98c5-ac93c9bd88ed\"\n",
    "        }\n",
    "\n",
    "    response = requests.request(\"POST\", url, data=payload, headers=headers)\n",
    "\n",
    "    return(response.text)"
   ]
  },
  {
   "cell_type": "code",
   "execution_count": null,
   "metadata": {},
   "outputs": [],
   "source": [
    "data = get_route(encoded_route=encoded)"
   ]
  },
  {
   "cell_type": "code",
   "execution_count": null,
   "metadata": {},
   "outputs": [],
   "source": [
    "data"
   ]
  },
  {
   "cell_type": "code",
   "execution_count": null,
   "metadata": {},
   "outputs": [],
   "source": [
    "data"
   ]
  },
  {
   "cell_type": "code",
   "execution_count": null,
   "metadata": {},
   "outputs": [],
   "source": [
    "prase = json.loads(data)"
   ]
  },
  {
   "cell_type": "code",
   "execution_count": null,
   "metadata": {},
   "outputs": [],
   "source": [
    "prase"
   ]
  },
  {
   "cell_type": "code",
   "execution_count": null,
   "metadata": {},
   "outputs": [],
   "source": []
  }
 ],
 "metadata": {
  "kernelspec": {
   "display_name": "Python 3",
   "language": "python",
   "name": "python3"
  },
  "language_info": {
   "codemirror_mode": {
    "name": "ipython",
    "version": 3
   },
   "file_extension": ".py",
   "mimetype": "text/x-python",
   "name": "python",
   "nbconvert_exporter": "python",
   "pygments_lexer": "ipython3",
   "version": "3.8.1"
  }
 },
 "nbformat": 4,
 "nbformat_minor": 4
}
