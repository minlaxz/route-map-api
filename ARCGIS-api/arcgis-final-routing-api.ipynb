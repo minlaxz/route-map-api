{
 "cells": [
  {
   "cell_type": "code",
   "execution_count": 59,
   "metadata": {},
   "outputs": [],
   "source": [
    "from IPython.display import HTML\n",
    "\n",
    "from arcgis.gis import GIS\n",
    "import arcgis.network as network\n",
    "\n",
    "import urllib.parse as encode\n",
    "import requests\n",
    "import json"
   ]
  },
  {
   "cell_type": "code",
   "execution_count": 60,
   "metadata": {},
   "outputs": [],
   "source": [
    "start = '96.217989,16.807021'\n",
    "end = '96.207368,16.8128586'\n",
    "stops = start+';'+end\n",
    "encoded = encode.quote(stops)"
   ]
  },
  {
   "cell_type": "code",
   "execution_count": 1,
   "metadata": {},
   "outputs": [
    {
     "ename": "TypeError",
     "evalue": "request() missing 1 required positional argument: 'url'",
     "output_type": "error",
     "traceback": [
      "\u001b[1;31m---------------------------------------------------------------------------\u001b[0m",
      "\u001b[1;31mTypeError\u001b[0m                                 Traceback (most recent call last)",
      "\u001b[1;32m<ipython-input-1-07065a97d8b3>\u001b[0m in \u001b[0;36m<module>\u001b[1;34m\u001b[0m\n\u001b[0;32m     17\u001b[0m     }\n\u001b[0;32m     18\u001b[0m \u001b[1;33m\u001b[0m\u001b[0m\n\u001b[1;32m---> 19\u001b[1;33m \u001b[0mresponse\u001b[0m \u001b[1;33m=\u001b[0m \u001b[0mrequests\u001b[0m\u001b[1;33m.\u001b[0m\u001b[0mrequest\u001b[0m\u001b[1;33m(\u001b[0m\u001b[0murl\u001b[0m\u001b[1;33m,\u001b[0m\u001b[0mdata\u001b[0m\u001b[1;33m=\u001b[0m\u001b[0mheaders\u001b[0m\u001b[1;33m)\u001b[0m\u001b[1;33m\u001b[0m\u001b[1;33m\u001b[0m\u001b[0m\n\u001b[0m\u001b[0;32m     20\u001b[0m \u001b[1;33m\u001b[0m\u001b[0m\n\u001b[0;32m     21\u001b[0m \u001b[0mprint\u001b[0m\u001b[1;33m(\u001b[0m\u001b[0mresponse\u001b[0m\u001b[1;33m.\u001b[0m\u001b[0mtext\u001b[0m\u001b[1;33m)\u001b[0m\u001b[1;33m\u001b[0m\u001b[1;33m\u001b[0m\u001b[0m\n",
      "\u001b[1;31mTypeError\u001b[0m: request() missing 1 required positional argument: 'url'"
     ]
    }
   ],
   "source": [
    "import requests\n",
    "\n",
    "url = \"https://www.arcgis.com/sharing/rest/oauth2/token\"\n",
    "\n",
    "payload = \"client_id=*************&client_secret=*****************************&grant_type=client_credentials\"\n",
    "headers = {\n",
    "    'Content-Type': \"application/x-www-form-urlencoded\"\n",
    "    }\n",
    "\n",
    "response = requests.request(url,data=headers)\n",
    "\n",
    "print(response.text)"
   ]
  },
  {
   "cell_type": "code",
   "execution_count": 81,
   "metadata": {},
   "outputs": [],
   "source": [
    "def get_route(encoded_route):\n",
    "    import datetime\n",
    "\n",
    "    start_time = int(datetime.datetime.utcnow().timestamp() * 1000)\n",
    "    \n",
    "    url = \"https://route.arcgis.com/arcgis/rest/services/World/Route/NAServer/Route_World/solve\"\n",
    "\n",
    "    payload = \"f=json&token=*********************************************&stops=\"+encoded_route\n",
    "    headers = {\n",
    "    'Content-Type': \"application/x-www-form-urlencoded\"\n",
    "        'directions_language':'en-US',\n",
    "        'start_time':str(start_time),\n",
    "        'start_time_is_utc':'True'\n",
    "        }\n",
    "\n",
    "    response = requests.request(\"POST\", url, data=payload, headers=headers)\n",
    "\n",
    "    return(response.text)"
   ]
  },
  {
   "cell_type": "code",
   "execution_count": 82,
   "metadata": {},
   "outputs": [],
   "source": [
    "data = json.loads(get_route(encoded_route=encoded))"
   ]
  },
  {
   "cell_type": "code",
   "execution_count": 83,
   "metadata": {},
   "outputs": [
    {
     "data": {
      "text/plain": [
       "dict"
      ]
     },
     "execution_count": 83,
     "metadata": {},
     "output_type": "execute_result"
    }
   ],
   "source": [
    "type(data)"
   ]
  },
  {
   "cell_type": "code",
   "execution_count": 85,
   "metadata": {},
   "outputs": [],
   "source": [
    "import datetime\n",
    "records = []\n",
    "travel_time, time_counter = 0, 0\n",
    "distance, distance_counter = 0, 0\n",
    "\n",
    "for i in data['directions'][0]['features']:\n",
    "    time_of_day = datetime.datetime.fromtimestamp(i['attributes']['arriveTimeUTC'] / -1000).strftime('%H:%M:%S')\n",
    "    time_counter = i['attributes']['time']\n",
    "    distance_counter = i['attributes']['length']\n",
    "    travel_time += time_counter\n",
    "    distance += distance_counter\n",
    "    records.append( (time_of_day, i['attributes']['text'], \n",
    "                     round(travel_time, 2), round(distance, 2))  )    "
   ]
  },
  {
   "cell_type": "code",
   "execution_count": 67,
   "metadata": {},
   "outputs": [
    {
     "data": {
      "text/html": [
       "<table border=\"1\" class=\"dataframe\">\n",
       "  <thead>\n",
       "    <tr style=\"text-align: right;\">\n",
       "      <th>Time of day</th>\n",
       "      <th>Direction text</th>\n",
       "      <th>Duration (min)</th>\n",
       "      <th>Distance (km)</th>\n",
       "    </tr>\n",
       "  </thead>\n",
       "  <tbody>\n",
       "    <tr>\n",
       "      <td>06:30:00</td>\n",
       "      <td>Start at Location 1</td>\n",
       "      <td>0.00</td>\n",
       "      <td>0.00</td>\n",
       "    </tr>\n",
       "    <tr>\n",
       "      <td>06:30:00</td>\n",
       "      <td>Go west</td>\n",
       "      <td>0.05</td>\n",
       "      <td>0.02</td>\n",
       "    </tr>\n",
       "    <tr>\n",
       "      <td>06:30:00</td>\n",
       "      <td>Keep left at the fork</td>\n",
       "      <td>1.83</td>\n",
       "      <td>0.85</td>\n",
       "    </tr>\n",
       "    <tr>\n",
       "      <td>06:30:00</td>\n",
       "      <td>Turn left</td>\n",
       "      <td>2.56</td>\n",
       "      <td>1.10</td>\n",
       "    </tr>\n",
       "    <tr>\n",
       "      <td>06:30:00</td>\n",
       "      <td>Turn right</td>\n",
       "      <td>3.01</td>\n",
       "      <td>1.24</td>\n",
       "    </tr>\n",
       "    <tr>\n",
       "      <td>06:30:00</td>\n",
       "      <td>Turn left</td>\n",
       "      <td>4.05</td>\n",
       "      <td>1.59</td>\n",
       "    </tr>\n",
       "    <tr>\n",
       "      <td>06:30:00</td>\n",
       "      <td>Turn left</td>\n",
       "      <td>4.38</td>\n",
       "      <td>1.70</td>\n",
       "    </tr>\n",
       "    <tr>\n",
       "      <td>06:30:00</td>\n",
       "      <td>Finish at Location 2, on the left</td>\n",
       "      <td>4.38</td>\n",
       "      <td>1.70</td>\n",
       "    </tr>\n",
       "  </tbody>\n",
       "</table>"
      ],
      "text/plain": [
       "<IPython.core.display.HTML object>"
      ]
     },
     "execution_count": 67,
     "metadata": {},
     "output_type": "execute_result"
    }
   ],
   "source": [
    "pd.set_option('display.max_colwidth', 100)\n",
    "df = pd.DataFrame.from_records(records, index=[i for i in range(1, len(records) + 1)], \n",
    "                               columns=['Time of day', 'Direction text', \n",
    "                                        'Duration (min)', 'Distance (km)'])\n",
    "HTML(df.to_html(index=False))"
   ]
  },
  {
   "cell_type": "code",
   "execution_count": 58,
   "metadata": {},
   "outputs": [
    {
     "data": {
      "text/plain": [
       "-2209161600.0"
      ]
     },
     "execution_count": 58,
     "metadata": {},
     "output_type": "execute_result"
    }
   ],
   "source": [
    "data['directions'][0]['features'][0]['attributes']['arriveTimeUTC'] / 1000"
   ]
  },
  {
   "cell_type": "code",
   "execution_count": 87,
   "metadata": {},
   "outputs": [],
   "source": [
    "import datetime\n",
    "records = []\n",
    "travel_time, time_counter = 0, 0\n",
    "distance, distance_counter = 0, 0\n",
    "for i in data['directions'][0]['features']:\n",
    "    time_counter = i['attributes']['time']\n",
    "    distance_counter = i['attributes']['length']\n",
    "    travel_time += time_counter\n",
    "    distance += distance_counter\n",
    "    records.append( (i['attributes']['text'], \n",
    "                     round(travel_time, 2), round(distance, 2))  )  \n",
    "    "
   ]
  },
  {
   "cell_type": "code",
   "execution_count": 89,
   "metadata": {},
   "outputs": [
    {
     "data": {
      "text/plain": [
       "[('Start at Location 1', 0, 0),\n",
       " ('Go west', 0.05, 0.02),\n",
       " ('Keep left at the fork', 1.83, 0.85),\n",
       " ('Turn left', 2.56, 1.1),\n",
       " ('Turn right', 3.01, 1.24),\n",
       " ('Turn left', 4.05, 1.59),\n",
       " ('Turn left', 4.38, 1.7),\n",
       " ('Finish at Location 2, on the left', 4.38, 1.7)]"
      ]
     },
     "execution_count": 89,
     "metadata": {},
     "output_type": "execute_result"
    }
   ],
   "source": [
    "records"
   ]
  },
  {
   "cell_type": "code",
   "execution_count": 91,
   "metadata": {},
   "outputs": [
    {
     "data": {
      "text/html": [
       "<table border=\"1\" class=\"dataframe\">\n",
       "  <thead>\n",
       "    <tr style=\"text-align: right;\">\n",
       "      <th>Direction text</th>\n",
       "      <th>Duration (min)</th>\n",
       "      <th>Distance (km)</th>\n",
       "    </tr>\n",
       "  </thead>\n",
       "  <tbody>\n",
       "    <tr>\n",
       "      <td>Start at Location 1</td>\n",
       "      <td>0.00</td>\n",
       "      <td>0.00</td>\n",
       "    </tr>\n",
       "    <tr>\n",
       "      <td>Go west</td>\n",
       "      <td>0.05</td>\n",
       "      <td>0.02</td>\n",
       "    </tr>\n",
       "    <tr>\n",
       "      <td>Keep left at the fork</td>\n",
       "      <td>1.83</td>\n",
       "      <td>0.85</td>\n",
       "    </tr>\n",
       "    <tr>\n",
       "      <td>Turn left</td>\n",
       "      <td>2.56</td>\n",
       "      <td>1.10</td>\n",
       "    </tr>\n",
       "    <tr>\n",
       "      <td>Turn right</td>\n",
       "      <td>3.01</td>\n",
       "      <td>1.24</td>\n",
       "    </tr>\n",
       "    <tr>\n",
       "      <td>Turn left</td>\n",
       "      <td>4.05</td>\n",
       "      <td>1.59</td>\n",
       "    </tr>\n",
       "    <tr>\n",
       "      <td>Turn left</td>\n",
       "      <td>4.38</td>\n",
       "      <td>1.70</td>\n",
       "    </tr>\n",
       "    <tr>\n",
       "      <td>Finish at Location 2, on the left</td>\n",
       "      <td>4.38</td>\n",
       "      <td>1.70</td>\n",
       "    </tr>\n",
       "  </tbody>\n",
       "</table>"
      ],
      "text/plain": [
       "<IPython.core.display.HTML object>"
      ]
     },
     "execution_count": 91,
     "metadata": {},
     "output_type": "execute_result"
    }
   ],
   "source": [
    "pd.set_option('display.max_colwidth', 100)\n",
    "df = pd.DataFrame.from_records(records, index=[i for i in range(1, len(records) + 1)], \n",
    "                               columns=['Direction text', \n",
    "                                        'Duration (min)', 'Distance (km)'])\n",
    "HTML(df.to_html(index=False))"
   ]
  },
  {
   "cell_type": "code",
   "execution_count": 112,
   "metadata": {},
   "outputs": [
    {
     "data": {
      "text/plain": [
       "{'totalLength': 1.6987171545061681,\n",
       " 'totalTime': 4.383021060815048,\n",
       " 'totalDriveTime': 4.383021060815048,\n",
       " 'envelope': {'xmin': 96.20610000000005,\n",
       "  'ymin': 16.806700000000035,\n",
       "  'xmax': 96.21839000000006,\n",
       "  'ymax': 16.817310000000077,\n",
       "  'spatialReference': {'wkid': 4326, 'latestWkid': 4326}}}"
      ]
     },
     "execution_count": 112,
     "metadata": {},
     "output_type": "execute_result"
    }
   ],
   "source": [
    "data[\"directions\"][0][\"summary\"]\n"
   ]
  },
  {
   "cell_type": "code",
   "execution_count": 133,
   "metadata": {},
   "outputs": [
    {
     "name": "stdout",
     "output_type": "stream",
     "text": [
      "[96.21787331400009, 16.807301953000035]\n",
      "[96.21782000000007, 16.80728000000005]\n",
      "[96.21766000000008, 16.80705000000006]\n",
      "[96.21781000000004, 16.806730000000073]\n",
      "[96.21820000000008, 16.806700000000035]\n",
      "[96.21839000000006, 16.807100000000048]\n",
      "[96.21816000000007, 16.807330000000036]\n",
      "[96.21793000000008, 16.80768000000006]\n",
      "[96.21787000000006, 16.80812000000003]\n",
      "[96.21784000000008, 16.808290000000056]\n",
      "[96.21777000000009, 16.80878000000007]\n",
      "[96.21771000000007, 16.80923000000007]\n",
      "[96.21764000000007, 16.809700000000078]\n",
      "[96.21757000000008, 16.810110000000066]\n",
      "[96.21748000000008, 16.810580000000073]\n",
      "[96.21738000000005, 16.811040000000048]\n",
      "[96.21726000000007, 16.811470000000043]\n",
      "[96.21707000000004, 16.81191000000007]\n",
      "[96.21693000000005, 16.812280000000044]\n",
      "[96.21507000000008, 16.817130000000077]\n",
      "[96.21500000000003, 16.817310000000077]\n",
      "[96.21369000000004, 16.81669000000005]\n",
      "[96.21325000000007, 16.816380000000038]\n",
      "[96.21281000000005, 16.816050000000075]\n",
      "[96.21235000000007, 16.815710000000024]\n",
      "[96.21193000000005, 16.815390000000036]\n",
      "[96.21163000000007, 16.815750000000037]\n",
      "[96.21135000000004, 16.81609000000003]\n",
      "[96.21100000000007, 16.81651000000005]\n",
      "[96.21033000000006, 16.816820000000064]\n",
      "[96.20970000000005, 16.81624000000005]\n",
      "[96.20889000000005, 16.815620000000024]\n",
      "[96.20845000000008, 16.81538000000006]\n",
      "[96.20830000000007, 16.815300000000036]\n",
      "[96.20795000000004, 16.81510000000003]\n",
      "[96.20785000000006, 16.815050000000042]\n",
      "[96.20739000000003, 16.814800000000048]\n",
      "[96.20703000000003, 16.81456000000003]\n",
      "[96.20610000000005, 16.813930000000028]\n",
      "[96.20707212200006, 16.812636274000056]\n"
     ]
    }
   ],
   "source": [
    "for i in data['routes']['features'][0]['geometry']['paths'][0]:\n",
    "    print(i)"
   ]
  },
  {
   "cell_type": "code",
   "execution_count": 134,
   "metadata": {},
   "outputs": [],
   "source": [
    "import numpy as np"
   ]
  },
  {
   "cell_type": "code",
   "execution_count": 136,
   "metadata": {},
   "outputs": [
    {
     "data": {
      "text/plain": [
       "array([[96.21787331, 16.80730195],\n",
       "       [96.21782   , 16.80728   ],\n",
       "       [96.21766   , 16.80705   ],\n",
       "       [96.21781   , 16.80673   ],\n",
       "       [96.2182    , 16.8067    ],\n",
       "       [96.21839   , 16.8071    ],\n",
       "       [96.21816   , 16.80733   ],\n",
       "       [96.21793   , 16.80768   ],\n",
       "       [96.21787   , 16.80812   ],\n",
       "       [96.21784   , 16.80829   ],\n",
       "       [96.21777   , 16.80878   ],\n",
       "       [96.21771   , 16.80923   ],\n",
       "       [96.21764   , 16.8097    ],\n",
       "       [96.21757   , 16.81011   ],\n",
       "       [96.21748   , 16.81058   ],\n",
       "       [96.21738   , 16.81104   ],\n",
       "       [96.21726   , 16.81147   ],\n",
       "       [96.21707   , 16.81191   ],\n",
       "       [96.21693   , 16.81228   ],\n",
       "       [96.21507   , 16.81713   ],\n",
       "       [96.215     , 16.81731   ],\n",
       "       [96.21369   , 16.81669   ],\n",
       "       [96.21325   , 16.81638   ],\n",
       "       [96.21281   , 16.81605   ],\n",
       "       [96.21235   , 16.81571   ],\n",
       "       [96.21193   , 16.81539   ],\n",
       "       [96.21163   , 16.81575   ],\n",
       "       [96.21135   , 16.81609   ],\n",
       "       [96.211     , 16.81651   ],\n",
       "       [96.21033   , 16.81682   ],\n",
       "       [96.2097    , 16.81624   ],\n",
       "       [96.20889   , 16.81562   ],\n",
       "       [96.20845   , 16.81538   ],\n",
       "       [96.2083    , 16.8153    ],\n",
       "       [96.20795   , 16.8151    ],\n",
       "       [96.20785   , 16.81505   ],\n",
       "       [96.20739   , 16.8148    ],\n",
       "       [96.20703   , 16.81456   ],\n",
       "       [96.2061    , 16.81393   ],\n",
       "       [96.20707212, 16.81263627]])"
      ]
     },
     "execution_count": 136,
     "metadata": {},
     "output_type": "execute_result"
    }
   ],
   "source": [
    "np.array(data['routes']['features'][0]['geometry']['paths'][0])"
   ]
  },
  {
   "cell_type": "code",
   "execution_count": null,
   "metadata": {},
   "outputs": [],
   "source": []
  }
 ],
 "metadata": {
  "kernelspec": {
   "display_name": "Python 3",
   "language": "python",
   "name": "python3"
  },
  "language_info": {
   "codemirror_mode": {
    "name": "ipython",
    "version": 3
   },
   "file_extension": ".py",
   "mimetype": "text/x-python",
   "name": "python",
   "nbconvert_exporter": "python",
   "pygments_lexer": "ipython3",
   "version": "3.8.1"
  }
 },
 "nbformat": 4,
 "nbformat_minor": 4
}
