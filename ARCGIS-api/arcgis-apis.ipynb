{
 "cells": [
  {
   "cell_type": "markdown",
   "metadata": {},
   "source": [
    "created by ```MIN LAXZ```"
   ]
  },
  {
   "cell_type": "markdown",
   "metadata": {},
   "source": [
    "Client id and Client Secret will generate random Token that is valid for 2 hours"
   ]
  },
  {
   "cell_type": "code",
   "execution_count": null,
   "metadata": {},
   "outputs": [],
   "source": [
    "import requests\n",
    "\n",
    "url = \"https://www.arcgis.com/sharing/rest/oauth2/token\"\n",
    "\n",
    "payload = 'client_id=HERE-IS-CLIENT-ID-From-ARCGIS&client_secret=CLIENT-SECRET-From-ARCGIS&grant_type=client_credentials'\n",
    "headers = {\n",
    "  'Content-Type': 'application/x-www-form-urlencoded'\n",
    "}\n",
    "\n",
    "response = requests.request(\"POST\", url, headers=headers, data = payload)\n",
    "\n",
    "print(response.text.encode('utf8'))\n"
   ]
  },
  {
   "cell_type": "markdown",
   "metadata": {},
   "source": [
    "Above code will request a access_token & <br>\n",
    "that token will be valid 7200 sec. <br>\n",
    "here is [developer tutorial](https://developers.arcgis.com/labs/rest/get-a-route-and-directions/)"
   ]
  },
  {
   "cell_type": "code",
   "execution_count": null,
   "metadata": {},
   "outputs": [],
   "source": [
    "import requests\n",
    "\n",
    "url = \"https://route.arcgis.com/arcgis/rest/services/World/Route/NAServer/Route_World/solve\"\n",
    "\n",
    "payload = 'f=json&token=ABOVE-TOKEN-WILL-GOES-HERE&stops=%7B%0A%20%20%22type%22%3A%22features%22%2C%0A%20%20%22features%22%3A%20%20%5B%0A%20%20%20%20%20%20%7B%0A%20%20%20%20%20%20%22geometry%22%3A%20%7B%0A%20%20%20%20%20%20%20%20%22x%22%3A%20-118.243529%2C%0A%20%20%20%20%20%20%20%20%22y%22%3A%2034.053879%2C%0A%20%20%20%20%20%20%20%20%22spatialReference%22%3A%20%7B%0A%20%20%20%20%20%20%20%20%20%20%22wkid%22%3A%20%224326%22%0A%20%20%20%20%20%20%20%20%7D%0A%20%20%20%20%20%20%7D%2C%0A%20%20%20%20%20%20%22attributes%22%3A%20%7B%0A%20%20%20%20%20%20%20%20%22Name%22%3A%20%22Los%20Angeles%20City%20Hall%22%0A%20%20%20%20%20%20%7D%0A%20%20%20%20%7D%2C%0A%20%20%20%20%7B%0A%20%20%20%20%20%20%22geometry%22%3A%20%7B%0A%20%20%20%20%20%20%20%20%22x%22%3A%20-118.273939%2C%0A%20%20%20%20%20%20%20%20%22y%22%3A%2034.123480%2C%0A%20%20%20%20%20%20%20%20%22spatialReference%22%3A%20%7B%0A%20%20%20%20%20%20%20%20%20%20%22wkid%22%3A%20%224326%22%0A%20%20%20%20%20%20%20%20%7D%0A%20%20%20%20%20%20%7D%2C%0A%20%20%20%20%20%20%22attributes%22%3A%20%7B%0A%20%20%20%20%20%20%20%20%22Name%22%3A%20%22Griffith%20Park%22%0A%20%20%20%20%20%20%7D%0A%20%20%20%20%7D%0A%20%20%5D%0A%7D'\n",
    "headers= {}\n",
    "\n",
    "response = requests.request(\"POST\", url, headers=headers, data = payload)\n",
    "\n",
    "print(response.text.encode('utf8'))\n"
   ]
  },
  {
   "cell_type": "code",
   "execution_count": null,
   "metadata": {},
   "outputs": [],
   "source": []
  }
 ],
 "metadata": {
  "kernelspec": {
   "display_name": "Python 3",
   "language": "python",
   "name": "python3"
  },
  "language_info": {
   "codemirror_mode": {
    "name": "ipython",
    "version": 3
   },
   "file_extension": ".py",
   "mimetype": "text/x-python",
   "name": "python",
   "nbconvert_exporter": "python",
   "pygments_lexer": "ipython3",
   "version": "3.8.1"
  }
 },
 "nbformat": 4,
 "nbformat_minor": 4
}
