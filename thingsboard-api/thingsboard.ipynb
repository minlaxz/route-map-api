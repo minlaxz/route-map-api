{
 "cells": [
  {
   "cell_type": "code",
   "execution_count": 1,
   "metadata": {},
   "outputs": [],
   "source": [
    "import requests"
   ]
  },
  {
   "cell_type": "code",
   "execution_count": 28,
   "metadata": {},
   "outputs": [],
   "source": [
    "url = 'https://dweet.io/dweet/for/laxz-path-culler'\n",
    "data = {\n",
    "    \"lat\":16.875524717,\n",
    "    \"lon\":96.266761267,\n",
    "    \"speed\":10,\n",
    "    \"head\":75,\n",
    "    \"alt\":330.7,\n",
    "    \"temp\":21.2,\n",
    "    \"batt\":3630\n",
    "}\n",
    "r = requests.post(url,json=data).json()"
   ]
  },
  {
   "cell_type": "code",
   "execution_count": 29,
   "metadata": {},
   "outputs": [
    {
     "data": {
      "text/plain": [
       "{'this': 'succeeded',\n",
       " 'by': 'dweeting',\n",
       " 'the': 'dweet',\n",
       " 'with': {'thing': 'laxz-path-culler',\n",
       "  'created': '2019-10-26T12:12:39.943Z',\n",
       "  'content': {'lat': 16.875524717,\n",
       "   'lon': 96.266761267,\n",
       "   'speed': 10,\n",
       "   'head': 75,\n",
       "   'alt': 330.7,\n",
       "   'temp': 21.2,\n",
       "   'batt': 3630},\n",
       "  'transaction': '3ac45038-7ab1-4164-9aa0-2a0b389c42db'}}"
      ]
     },
     "execution_count": 29,
     "metadata": {},
     "output_type": "execute_result"
    }
   ],
   "source": [
    "r"
   ]
  },
  {
   "cell_type": "code",
   "execution_count": 6,
   "metadata": {},
   "outputs": [],
   "source": [
    "url = \"http://demo.thingsboard.io/api/v1/KEYSSSSSSS/telemetry\"\n",
    "data = {\n",
    "    \"lat\":16.707021,\n",
    "    \"lon\":96.317989,\n",
    "    \"speed\":39,\n",
    "    \"head\":75,\n",
    "    \"alt\":330.7,\n",
    "    \"temp\":21.2,\n",
    "    \"batt\":3630\n",
    "}\n",
    "r = requests.post(url, json=data)"
   ]
  },
  {
   "cell_type": "code",
   "execution_count": 45,
   "metadata": {},
   "outputs": [
    {
     "data": {
      "text/plain": [
       "200"
      ]
     },
     "execution_count": 45,
     "metadata": {},
     "output_type": "execute_result"
    }
   ],
   "source": [
    "r.status_code"
   ]
  },
  {
   "cell_type": "code",
   "execution_count": 38,
   "metadata": {},
   "outputs": [
    {
     "data": {
      "text/plain": [
       "''"
      ]
     },
     "execution_count": 38,
     "metadata": {},
     "output_type": "execute_result"
    }
   ],
   "source": [
    "r.text"
   ]
  },
  {
   "cell_type": "code",
   "execution_count": 41,
   "metadata": {},
   "outputs": [
    {
     "data": {
      "text/plain": [
       "<Response [405]>"
      ]
     },
     "execution_count": 41,
     "metadata": {},
     "output_type": "execute_result"
    }
   ],
   "source": [
    "requests.get('http://demo.thingsboard.io/api/v1/KEYSSSSSSSS/telemetry')"
   ]
  },
  {
   "cell_type": "code",
   "execution_count": 46,
   "metadata": {},
   "outputs": [],
   "source": [
    "data = {\n",
    "    \"lat\":16.807021,\n",
    "    \"lon\":96.217989,\n",
    "    \"speed\":10,\n",
    "    \"head\":75,\n",
    "    \"alt\":330.7,\n",
    "    \"temp\":21.2,\n",
    "    \"batt\":3630\n",
    "}"
   ]
  },
  {
   "cell_type": "code",
   "execution_count": null,
   "metadata": {},
   "outputs": [],
   "source": []
  }
 ],
 "metadata": {
  "kernelspec": {
   "display_name": "Python 3",
   "language": "python",
   "name": "python3"
  },
  "language_info": {
   "codemirror_mode": {
    "name": "ipython",
    "version": 3
   },
   "file_extension": ".py",
   "mimetype": "text/x-python",
   "name": "python",
   "nbconvert_exporter": "python",
   "pygments_lexer": "ipython3",
   "version": "3.8.1"
  }
 },
 "nbformat": 4,
 "nbformat_minor": 4
}
